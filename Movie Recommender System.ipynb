{
 "cells": [
  {
   "cell_type": "markdown",
   "metadata": {},
   "source": [
    "# A basic Recommender System for Different Genre of Movies Based on User Ratings:\n",
    "\n",
    "We are going to use the \"MoviesLes Dataset\" to build a recommender system. The data set contains over 20 milion of ratings for different movies. \n",
    "\n",
    "## Data Analysis:\n",
    "\n",
    "We are going to use the movielens to build a really simple \"item similarity based\" recommender system. "
   ]
  },
  {
   "cell_type": "code",
   "execution_count": 5,
   "metadata": {
    "collapsed": true
   },
   "outputs": [],
   "source": [
    "import pandas as pd\n",
    "import numpy as np\n",
    "import warnings\n",
    "\n",
    "warnings.filterwarnings('ignore')"
   ]
  },
  {
   "cell_type": "markdown",
   "metadata": {},
   "source": [
    "Next we load the dataset using pandas funtion called read_csv(). The dataset is \"tab\" seperated so we need to pass in \"\\t\" to the sep parameter of the \"read_csv()\" function. We then pass in the column names using the \"names\" parameter."
   ]
  },
  {
   "cell_type": "code",
   "execution_count": 6,
   "metadata": {
    "collapsed": false
   },
   "outputs": [],
   "source": [
    "df = pd.read_csv('film_ratings.csv', sep = '\\t', names = ['user_id', 'item_id', 'rating', 'timestamps'])\n",
    "df.head() # checking the head of the datatosee the data we are dealing with"
   ]
  },
  {
   "cell_type": "markdown",
   "metadata": {},
   "source": [
    "At this point in our dataset we have the movie ids instead of their names. It would be awesome if we could map the movie ids with their names. Fortunately we have the data for that and we can merge the two datasets (The above dataset which would include the movie-ids) with the movie names using a mutual key (column) called item_id. Let's do it:"
   ]
  },
  {
   "cell_type": "code",
   "execution_count": null,
   "metadata": {
    "collapsed": true
   },
   "outputs": [],
   "source": [
    "movie_titles = pd.read_csv(\"Movie_titles\")\n",
    "movie_titles.head()\n",
    "\n",
    "# Merging the two datasets using a mutual key (item-id)\n",
    "df = pd.merge(df, movie_titles, on = \"item_id\")\n",
    "df.head()"
   ]
  },
  {
   "cell_type": "markdown",
   "metadata": {},
   "source": [
    "Now in the dataset we would have the current features (attributes):\n",
    "- user_id: The Id of the user who rated the movie\n",
    "- item_id: The Id of the movie\n",
    "- rating: The rating the user gave the movie, between 1 and 5\n",
    "- timestamp: The time the movie was rated\n",
    "- title: The title of the movie\n",
    "\n",
    "Using \"describe\" or \"info\" methods we can get a brief description of our dataset. This is important in order to enable us understand the dataset we are working with."
   ]
  },
  {
   "cell_type": "code",
   "execution_count": null,
   "metadata": {
    "collapsed": true
   },
   "outputs": [],
   "source": [
    "df.describe()"
   ]
  },
  {
   "cell_type": "markdown",
   "metadata": {},
   "source": [
    "From the above description we can tell that:\n",
    "- The average rating is 3.52\n",
    "- The max rating is 5\n",
    "- The dataset has close to 100003 records\n",
    "\n",
    "We now create a dataframe with the average rating for each movie and the number of ratings. We are going to use these ratings to calculate the correlation between the movies later. \n",
    "\n",
    "- Correlation: Statistical measure which indicates the extent to which two or more variables fluctuate together.\n",
    "- Movies that have high correlation coefficient, are the most similar to each other.\n",
    "\n",
    "In our case we use \"Pearson Correlation\". This number will lie between -1 and 1. 1 indicates a positve linear correlation while -1 indicates a negative correlation. 0 indicates no linear correlation. therefor movies with a 0 correlation are not similar at all. \n",
    "\n",
    "We group the dataset by the \"title\" column and compute its mean to obtain the average rating for each movie. "
   ]
  },
  {
   "cell_type": "code",
   "execution_count": null,
   "metadata": {
    "collapsed": true
   },
   "outputs": [],
   "source": [
    "# Rating for each movie based on their title \n",
    "rating = pd.DataFrame(df.groupby(\"title\")['rating'].mean())\n",
    "rating.head()"
   ]
  },
  {
   "cell_type": "markdown",
   "metadata": {
    "collapsed": true
   },
   "source": [
    "As the next step we would like to see the number of ratings for each movie. We do this by creating a \"number_of_ratings\"column. This is important so that we can see the relationship between the average rating of a movie and the number of ratings the movie got. It is very possible that a 5 star movie was rated by just one person. It is therefor statistically incorrect to classify that movie has a 5 star movie. We would therefor need to set a threshold for the minimum number of ratings as we build the recommender system. In order to create this new column we use \"pandas\" group by utility. We group by the title column and then \"count\" the number of ratings for each of those titles. Afterwards we view the new dataframe by using the \"head()\" function.  "
   ]
  },
  {
   "cell_type": "code",
   "execution_count": null,
   "metadata": {
    "collapsed": true
   },
   "outputs": [],
   "source": [
    "ratings['number_of_ratings'] = df.groupby('title')['rating'].count()\n",
    "ratings.head()"
   ]
  },
  {
   "cell_type": "markdown",
   "metadata": {},
   "source": [
    "We now plot a histogram using pandas plotting functionality to visualize the distribution of the ratings."
   ]
  },
  {
   "cell_type": "code",
   "execution_count": null,
   "metadata": {
    "collapsed": true
   },
   "outputs": [],
   "source": [
    "import matplotlib.pyplot as plt\n",
    "%matplotlib inline\n",
    "ratings['tating'].hist(bins = 50)"
   ]
  },
  {
   "cell_type": "markdown",
   "metadata": {},
   "source": [
    "We can see that most of the movies are rated between 2.5 and 4. Next let's visualize the number_of_ratings column in a similar manner."
   ]
  },
  {
   "cell_type": "code",
   "execution_count": null,
   "metadata": {
    "collapsed": true
   },
   "outputs": [],
   "source": [
    "ratings['number_of_ratings'].hist(bins = 50)"
   ]
  },
  {
   "cell_type": "markdown",
   "metadata": {},
   "source": [
    "From the above histogram it is clear that most movies have few ratings. Movies with most ratings are those that are most famous.\n",
    "\n",
    "Let's now check the relationship between the rating of a movie and the number of ratings. We do this by plotting a scatter plot using \"seaborn\". Seaborn enables us to do this using \"jointplot() function."
   ]
  },
  {
   "cell_type": "code",
   "execution_count": null,
   "metadata": {
    "collapsed": true
   },
   "outputs": [],
   "source": [
    "import seaborn as sns\n",
    "sns.jointplot(x = 'rating', y = 'number_of_ratings', data=ratings)"
   ]
  },
  {
   "cell_type": "markdown",
   "metadata": {},
   "source": [
    "From the scatter plot one can see that there is a positve relationship between the average rating of a movie and the number of ratings. The graph indicates that the more ratings a movie gets, the higher the average rating will be. This is important to note when we want to set a threshold for the number of ratings a movie has to do more analysis. "
   ]
  },
  {
   "cell_type": "markdown",
   "metadata": {},
   "source": [
    "## Item Based Recommender System\n",
    "\n",
    "Now we move to the next step and we create a simple item-based recommender system. In order to do that we need to convert our dataset into a \"matrix\" with the movie  titles as columns, the user_id as index, and rhe ratings as the values. By doing this we shall get a dataframe with the columns as the movie titles and the rows as the user-ids. Each column represents all the ratings of a movie by all users. The rating appear as NAN where a user didn't rate a certain movie. We shall use this matrix to compute the correaltion between the ratings of a single movie and the rest of the movies in the matrix. We use pandas 'pivot_table' utility to create the movie matrix. "
   ]
  },
  {
   "cell_type": "code",
   "execution_count": null,
   "metadata": {
    "collapsed": true
   },
   "outputs": [],
   "source": [
    "movie_matrix = df.pivot_table(index='user_id', columns='title', values='rating')\n",
    "movie_matrix.head()"
   ]
  },
  {
   "cell_type": "markdown",
   "metadata": {},
   "source": [
    "Next we look at the most rated movies and choose two of them to work with in this simple recommender system. We use pandas 'sort_values' function and set 'ascending' to false in order to arrange the movies from the most rated. We then use the head() function to view the top 10."
   ]
  },
  {
   "cell_type": "code",
   "execution_count": null,
   "metadata": {
    "collapsed": true
   },
   "outputs": [],
   "source": [
    "ratings.sort_values('number_of_ratings', ascending=Fale).head(10)"
   ]
  },
  {
   "cell_type": "markdown",
   "metadata": {},
   "source": [
    "Let's Assume that a user has watched Air Force One (1997) and Contact (1997). We would like to recommend movies to this user based on this watching history. The goal is to look for movies that are similar to Contact and AirForce One. We can achieve this goal by computing the correaltion between these two movie ratings and the ratings of the rest of the movies in the dataset. The first step is to create a dataframe with the ratings of these movies from our \"movie_matrix\""
   ]
  },
  {
   "cell_type": "code",
   "execution_count": null,
   "metadata": {
    "collapsed": true
   },
   "outputs": [],
   "source": [
    "Airforce_user_rating = movie_matrix['Air Force One (1997)']\n",
    "Contact_user_rating = movie_matrix['Contact (1997)']"
   ]
  },
  {
   "cell_type": "markdown",
   "metadata": {},
   "source": [
    "We now have the dataframe showing the user_id and the rating they gave the two movies. Let's take a look at them below. Let's take a look at them below:"
   ]
  },
  {
   "cell_type": "code",
   "execution_count": null,
   "metadata": {
    "collapsed": true
   },
   "outputs": [],
   "source": [
    "Airforce_user_rating.head()\n",
    "Contact_user_rating.head()"
   ]
  },
  {
   "cell_type": "markdown",
   "metadata": {},
   "source": [
    "In order to compute the correlation between two dataframes we can use pandas \"corrwith\" function. \"corrwith\" computes the pairwise correlation of rows or columns of two dataframe objects. Let's use this funciton to get the correlation between each movie's rating and the ratings of the Air Force One movie. "
   ]
  },
  {
   "cell_type": "code",
   "execution_count": null,
   "metadata": {
    "collapsed": true
   },
   "outputs": [],
   "source": [
    "similar_to_air_force_once = movie_matrix.corrwith(Airforce_user_rating)"
   ]
  },
  {
   "cell_type": "markdown",
   "metadata": {},
   "source": [
    "We can see that the correaltion between Air Force One movie and Til There Was You (1997) is 0.87. This indicates a very strong similarities (in terms of ratings) between these two movies. "
   ]
  },
  {
   "cell_type": "code",
   "execution_count": null,
   "metadata": {
    "collapsed": true
   },
   "outputs": [],
   "source": [
    "similar_to_air_force_one.head()"
   ]
  },
  {
   "cell_type": "markdown",
   "metadata": {},
   "source": [
    "Let's move on and compute the correlation between Contact (1997) ratings and the rest of the movie ratings. The procedure is exactly the same as what we did above. "
   ]
  },
  {
   "cell_type": "code",
   "execution_count": null,
   "metadata": {
    "collapsed": true
   },
   "outputs": [],
   "source": [
    "similar_to_contact = movie_matrix.corrwith(contact_user_rating)"
   ]
  },
  {
   "cell_type": "markdown",
   "metadata": {},
   "source": [
    "We realize that there is a strong correlation, 0.904, between Contact (1997) and Til There Was You (1997)."
   ]
  },
  {
   "cell_type": "code",
   "execution_count": null,
   "metadata": {
    "collapsed": true
   },
   "outputs": [],
   "source": [
    "similar_to_contact.head()"
   ]
  },
  {
   "cell_type": "markdown",
   "metadata": {},
   "source": [
    "Since our initial movie_matrix has lots of NAN or missing values, we now drop those missing values and transform correlation results into dataframes to make the results look more appealing."
   ]
  },
  {
   "cell_type": "code",
   "execution_count": null,
   "metadata": {
    "collapsed": true
   },
   "outputs": [],
   "source": [
    "corr_contact = pd.DataFrame(similar_to_contact, columns=['Correlation'])\n",
    "corr_contact.dropna(inplace=True)\n",
    "corr_contact.head()\n",
    "\n",
    "corr_air_force = pd.DataFrame(similar_to_air_force, columns=['Correlation'])\n",
    "corr_air_force.dropna(inplace=True)\n",
    "corr_air_force.head()"
   ]
  },
  {
   "cell_type": "markdown",
   "metadata": {},
   "source": [
    "These two dataframes above show us the movies that are most similar to Contact (1997) and Air Force One (1997) respectively. One challenge here is the fact that some of the movies have a very few ratings and may end up being recommended simply because one or two people gave them a 5 star rating. We can fix this by setting a threshold for the number of ratings. From the histogram earlier we saw a sharp decline in the number of ratings from 100. We shall therefor set this as the threshold, however this is a number you can play around until you get a suitable option. In order to do this we need to join the two dataframes with the 'number_of_ratings' column in the rating data frame."
   ]
  },
  {
   "cell_type": "code",
   "execution_count": null,
   "metadata": {
    "collapsed": true
   },
   "outputs": [],
   "source": [
    "corr_air_force = corr_air_force.join(ratings['number of ratings'])\n",
    "corr_contact = corr_contact.join(ratings['number of ratings'])\n",
    "corr_air_force.head()\n",
    "corr_contact.head()"
   ]
  },
  {
   "cell_type": "markdown",
   "metadata": {},
   "source": [
    "We now obtain movies that are most similar to Air Force One (1997) by limiting them to movies that have at least 100 reviews. We then sort them by the correlation column and view the top 10."
   ]
  },
  {
   "cell_type": "code",
   "execution_count": null,
   "metadata": {
    "collapsed": true
   },
   "outputs": [],
   "source": [
    "corr_air_force[corr_airforce['number_of_ratings'] > 100].sort_values(by='correlation', ascending = False).head(10)\n",
    "corr_contact[corr_contact['number_of_ratings'] > 100].sort_values(by='correlation', ascending  =False).head(10)"
   ]
  },
  {
   "cell_type": "markdown",
   "metadata": {},
   "source": [
    "## How to improve the recommender system?\n",
    "\n",
    "This system can be improved by building a Memory-Based Collaborative Filtering based system. In this case, we'd divide the data into a training set and a test set. We'd then use techniques such as \"Cosine similarity\" to compute the similarity between the movies. An alternative is to build a Model-Based Collaborative Filtering System. This is based on \"Matrix Factorization\". Matrix Factorization is good at dealing with scalability and sparsity than the former. You can then evaluate your model using techniques such as Root Mean Squared Error (RMSE)\n",
    "\n",
    "Some of the algorithms that are being used to build advanced recommener systems include:\n",
    "- \"Auto-Encoders\" \n",
    "- \"Restricted Boltzmann Machines\""
   ]
  }
 ],
 "metadata": {
  "anaconda-cloud": {},
  "kernelspec": {
   "display_name": "Python [default]",
   "language": "python",
   "name": "python3"
  },
  "language_info": {
   "codemirror_mode": {
    "name": "ipython",
    "version": 3
   },
   "file_extension": ".py",
   "mimetype": "text/x-python",
   "name": "python",
   "nbconvert_exporter": "python",
   "pygments_lexer": "ipython3",
   "version": "3.5.2"
  }
 },
 "nbformat": 4,
 "nbformat_minor": 2
}
