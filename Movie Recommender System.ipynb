{
 "cells": [
  {
   "cell_type": "markdown",
   "metadata": {},
   "source": [
    "# A basic Recommender System for Different Genre of Movies:\n",
    "\n",
    "We are going to use the \"MoviesLes Dataset\" to build a recommender system. The data set contains over 20 milion of ratings for different movies. \n",
    "\n",
    "## The Recommender System:\n",
    "\n",
    "We are going to use the movielens to build a really simple \"item similarity based\" recommender system. "
   ]
  },
  {
   "cell_type": "code",
   "execution_count": 5,
   "metadata": {
    "collapsed": true
   },
   "outputs": [],
   "source": [
    "import pandas as pd\n",
    "import numpy as np\n",
    "import warnings\n",
    "\n",
    "warnings.filterwarnings('ignore')"
   ]
  },
  {
   "cell_type": "markdown",
   "metadata": {},
   "source": [
    "Next we load the dataset using pandas funtion called read_csv(). The dataset is \"tab\" seperated so we need to pass in \"\\t\" to the sep parameter of the \"read_csv()\" function. We then pass in the column names using the \"names\" parameter."
   ]
  },
  {
   "cell_type": "code",
   "execution_count": 6,
   "metadata": {
    "collapsed": false
   },
   "outputs": [],
   "source": [
    "df = pd.read_csv('film_ratings.csv', sep = '\\t', names = ['user_id', 'item_id', 'rating', 'timestamps'])\n",
    "df.head() # checking the head of the datatosee the data we are dealing with"
   ]
  },
  {
   "cell_type": "markdown",
   "metadata": {},
   "source": [
    "At this point in our dataset we have the movie ids instead of their names. It would be awesome if we could map the movie ids with their names. Fortunately we have the data for that and we can merge the two datasets (The above dataset which would include the movie-ids) with the movie names using a mutual key (column) called item_id. Let's do it:"
   ]
  },
  {
   "cell_type": "code",
   "execution_count": null,
   "metadata": {
    "collapsed": true
   },
   "outputs": [],
   "source": [
    "movie_titles = pd.read_csv(\"Movie_titles\")\n",
    "movie_titles.head()\n",
    "\n",
    "# Merging the two datasets using a mutual key (item-id)\n",
    "df = pd.merge(df, movie_titles, on = \"item_id\")\n",
    "df.head()"
   ]
  },
  {
   "cell_type": "markdown",
   "metadata": {},
   "source": [
    "Now in the dataset we would have the current features (attributes):\n",
    "- user_id: The Id of the user who rated the movie\n",
    "- item_id: The Id of the movie\n",
    "- rating: The rating the user gave the movie, between 1 and 5\n",
    "- timestamp: The time the movie was rated\n",
    "- title: The title of the movie\n",
    "\n",
    "Using \"describe\" or \"info\" methods we can get a brief description of our dataset. This is important in order to enable us understand the dataset we are working with."
   ]
  },
  {
   "cell_type": "code",
   "execution_count": null,
   "metadata": {
    "collapsed": true
   },
   "outputs": [],
   "source": [
    "df.describe()"
   ]
  },
  {
   "cell_type": "markdown",
   "metadata": {},
   "source": [
    "From the above description we can tell that:\n",
    "- The average rating is 3.52\n",
    "- The max rating is 5\n",
    "- The dataset has close to 100003 records\n",
    "\n",
    "We now create a dataframe with the average rating for each movie and the number of ratings. We are going to use these ratings to calculate the correlation between the movies later. \n",
    "\n",
    "- Correlation: Statistical measure which indicates the extent to which two or more variables fluctuate together.\n",
    "- Movies that have high correlation coefficient, are the most similar to each other.\n",
    "\n",
    "In our case we use \"Pearson Correlation\". This number will lie between -1 and 1. 1 indicates a positve linear correlation while -1 indicates a negative correlation. 0 indicates no linear correlation. therefor movies with a 0 correlation are not similar at all. \n",
    "\n",
    "We group the dataset by the \"title\" column and compute its mean to obtain the average rating for each movie. "
   ]
  },
  {
   "cell_type": "code",
   "execution_count": null,
   "metadata": {
    "collapsed": true
   },
   "outputs": [],
   "source": [
    "# Rating for each movie based on their title \n",
    "rating = pd.DataFrame(df.groupby(\"title\")['rating'].mean())\n",
    "rating.head()"
   ]
  },
  {
   "cell_type": "code",
   "execution_count": null,
   "metadata": {
    "collapsed": true
   },
   "outputs": [],
   "source": []
  }
 ],
 "metadata": {
  "anaconda-cloud": {},
  "kernelspec": {
   "display_name": "Python [default]",
   "language": "python",
   "name": "python3"
  },
  "language_info": {
   "codemirror_mode": {
    "name": "ipython",
    "version": 3
   },
   "file_extension": ".py",
   "mimetype": "text/x-python",
   "name": "python",
   "nbconvert_exporter": "python",
   "pygments_lexer": "ipython3",
   "version": "3.5.2"
  }
 },
 "nbformat": 4,
 "nbformat_minor": 2
}
